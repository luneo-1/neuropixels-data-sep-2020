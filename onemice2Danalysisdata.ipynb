{
  "cells": [
    {
      "cell_type": "markdown",
      "metadata": {
        "id": "view-in-github",
        "colab_type": "text"
      },
      "source": [
        "<a href=\"https://colab.research.google.com/github/luneo-1/neuropixels-data-sep-2020/blob/master/onemice2Danalysisdata.ipynb\" target=\"_parent\"><img src=\"https://colab.research.google.com/assets/colab-badge.svg\" alt=\"Open In Colab\"/></a>"
      ]
    },
    {
      "cell_type": "code",
      "execution_count": 3,
      "metadata": {
        "colab": {
          "base_uri": "https://localhost:8080/"
        },
        "id": "C6Ll8UaOg62N",
        "outputId": "c63279f3-4bd8-43ba-af00-3517b903b230"
      },
      "outputs": [
        {
          "output_type": "stream",
          "name": "stdout",
          "text": [
            "Mounted at /content/drive\n",
            "/content/drive/Othercomputers/My MacBook Pro/Freezing_analysis-Freezing-2023-08-11\n"
          ]
        }
      ],
      "source": [
        "from google.colab import drive\n",
        "drive.mount('/content/drive')\n",
        "\n",
        "%cd /content/drive/Othercomputers/My MacBook Pro/Freezing_analysis-Freezing-2023-08-11"
      ]
    },
    {
      "cell_type": "code",
      "execution_count": 4,
      "metadata": {
        "colab": {
          "base_uri": "https://localhost:8080/"
        },
        "id": "3QiVHTyvNCpt",
        "outputId": "0ea25b5d-408c-4e27-d194-8be9424f7394"
      },
      "outputs": [
        {
          "output_type": "stream",
          "name": "stdout",
          "text": [
            "/content/drive/Othercomputers/My MacBook Pro\n",
            "Freezing_analysis-Freezing-2023-08-11\n"
          ]
        }
      ],
      "source": [
        "%cd /content/drive/Othercomputers/My MacBook Pro/\n",
        "!ls"
      ]
    },
    {
      "cell_type": "code",
      "execution_count": 3,
      "metadata": {
        "id": "BtfZZKtZg8pw"
      },
      "outputs": [],
      "source": []
    },
    {
      "cell_type": "code",
      "execution_count": null,
      "metadata": {
        "id": "s78bLrjFiaFN"
      },
      "outputs": [],
      "source": [
        "!pip install DeepLabCut"
      ]
    },
    {
      "cell_type": "code",
      "execution_count": 2,
      "metadata": {
        "id": "KRmIXnXGii9N",
        "colab": {
          "base_uri": "https://localhost:8080/"
        },
        "outputId": "6d84608b-715a-4b28-8033-766ed5f56e6c"
      },
      "outputs": [
        {
          "output_type": "stream",
          "name": "stdout",
          "text": [
            "Loading DLC 2.3.5...\n",
            "DLC loaded in light mode; you cannot use any GUI (labeling, relabeling and standalone GUI)\n"
          ]
        }
      ],
      "source": [
        "import deeplabcut"
      ]
    },
    {
      "cell_type": "code",
      "source": [
        "########  path /content/drive/MyDrive/CPP_head_tracing-TangshengLu-2023-05-20/"
      ],
      "metadata": {
        "id": "ULk-r4PiFaMu"
      },
      "execution_count": null,
      "outputs": []
    },
    {
      "cell_type": "code",
      "execution_count": 3,
      "metadata": {
        "id": "GtJnJVfOisT3"
      },
      "outputs": [],
      "source": [
        "path_config_file = '/content/drive/Othercomputers/My MacBook Pro/Freezing_analysis-Freezing-2023-08-11/config.yaml'\n",
        "videos_file_path = '/content/drive/Othercomputers/My MacBook Pro/Freezing_analysis-Freezing-2023-08-11/videos'"
      ]
    },
    {
      "cell_type": "code",
      "execution_count": null,
      "metadata": {
        "id": "rd-QDvP9AMgm"
      },
      "outputs": [],
      "source": [
        "deeplabcut.load_demo_data(path_config_file)"
      ]
    },
    {
      "cell_type": "code",
      "execution_count": null,
      "metadata": {
        "id": "csayX-oyisl3"
      },
      "outputs": [],
      "source": [
        "# deeplabcut.load_demo_data(path_config_file)\n",
        "deeplabcut.train_network(path_config_file, shuffle=1, trainingsetindex=0, gputouse=None, max_snapshots_to_keep=5, autotune=False, displayiters=100, saveiters=20000, maxiters=2000000, allow_growth=True)\n",
        "\n"
      ]
    },
    {
      "cell_type": "code",
      "execution_count": null,
      "metadata": {
        "id": "x2v6fRrNALZi"
      },
      "outputs": [],
      "source": [
        "deeplabcut.evaluate_network(path_config_file,plotting=True)"
      ]
    },
    {
      "cell_type": "code",
      "source": [
        "cfg_path = '/content/drive/MyDrive/CPP_head_tracing-TangshengLu-2023-05-20/config.yaml'"
      ],
      "metadata": {
        "id": "_F76nv4TrmPf"
      },
      "execution_count": null,
      "outputs": []
    },
    {
      "cell_type": "code",
      "source": [
        "deeplabcut.export_model(cfg_path, iteration=None, shuffle=1, trainingsetindex=0, snapshotindex=None, TFGPUinference=True, overwrite=False, make_tar=True)"
      ],
      "metadata": {
        "id": "VOhISGBQrSXA"
      },
      "execution_count": null,
      "outputs": []
    },
    {
      "cell_type": "code",
      "source": [
        "videos_file_path = '/content/drive/Othercomputers/My MacBook Pro/Freezing_analysis-Freezing-2023-08-11/videos'"
      ],
      "metadata": {
        "id": "T8czQ49zrWzr"
      },
      "execution_count": 3,
      "outputs": []
    },
    {
      "cell_type": "code",
      "execution_count": null,
      "metadata": {
        "id": "nU90ZRMg_6JB"
      },
      "outputs": [],
      "source": []
    },
    {
      "cell_type": "code",
      "execution_count": null,
      "metadata": {
        "id": "YejZJoNBPQNn"
      },
      "outputs": [],
      "source": [
        "########deeplabcut.train_network(path_config_file, shuffle=1, displayiters=100,saveiters=500, maxiters=10000)\n",
        "# deeplabcut.train_network(path_config_file, shuffle=1, trainingsetindex=0, gputouse=None, max_snapshots_to_keep=5, autotune=False, displayiters=100, saveiters=20000, maxiters=30000, allow_growth=True)\n",
        "# deeplabcut.evaluate_network(path_config_file,plotting=True)\n",
        "\n",
        "# deeplabcut.analyze_videos(path_config_file,[videofile_path], shuffle=1, videotype=\"avi\",auto_track=False )\n",
        "# deeplabcut.analyze_videos(path_config_file, [videofile_path], save_as_csv=True, dynamic=(True,0.5,10))\n",
        "\n",
        "# deeplabcut.create_labeled_video(path_config_file, videofile_path, draw_skeleton=True, save_frames=True, trailpoints=0)\n"
      ]
    },
    {
      "cell_type": "code",
      "execution_count": null,
      "metadata": {
        "id": "0CZ0ZH7yHlXk"
      },
      "outputs": [],
      "source": [
        "deeplabcut.analyze_videos(path_config_file, [videos_file_path], save_as_csv=True, dynamic=(True,0.5,10))"
      ]
    },
    {
      "cell_type": "code",
      "execution_count": null,
      "metadata": {
        "id": "vnDSzji5dcuf"
      },
      "outputs": [],
      "source": [
        "deeplabcut.filterpredictions(path_config_file, [videos_file_path],videotype='.mp4',filtertype= 'arima',ARdegree=5,MAdegree=2)"
      ]
    },
    {
      "cell_type": "code",
      "source": [
        "deeplabcut.plot_trajectories(path_config_file, [videos_file_path])"
      ],
      "metadata": {
        "id": "xqN1hToPZXwP"
      },
      "execution_count": null,
      "outputs": []
    },
    {
      "cell_type": "code",
      "source": [
        "deeplabcut.create_labeled_video(path_config_file,[videos_file_path], videotype='.mp4', draw_skeleton = True)"
      ],
      "metadata": {
        "id": "s9WfecKLZX9E"
      },
      "execution_count": null,
      "outputs": []
    },
    {
      "cell_type": "code",
      "execution_count": null,
      "metadata": {
        "id": "o5lq6tvnHZnB"
      },
      "outputs": [],
      "source": []
    },
    {
      "cell_type": "code",
      "execution_count": null,
      "metadata": {
        "id": "amzlaWNEHZ2X"
      },
      "outputs": [],
      "source": []
    },
    {
      "cell_type": "code",
      "execution_count": null,
      "metadata": {
        "id": "kHccXLplHZ4-"
      },
      "outputs": [],
      "source": []
    },
    {
      "cell_type": "code",
      "execution_count": null,
      "metadata": {
        "id": "W4M1EglvHZ7b"
      },
      "outputs": [],
      "source": []
    },
    {
      "cell_type": "code",
      "execution_count": null,
      "metadata": {
        "id": "2Xo5hL8kPnMX"
      },
      "outputs": [],
      "source": []
    },
    {
      "cell_type": "code",
      "execution_count": null,
      "metadata": {
        "id": "BzAtAaGmDmSs"
      },
      "outputs": [],
      "source": []
    }
  ],
  "metadata": {
    "accelerator": "GPU",
    "colab": {
      "provenance": [],
      "gpuType": "A100",
      "machine_shape": "hm",
      "authorship_tag": "ABX9TyNzRyQ5wd3Z4ZvVV1ettvU9",
      "include_colab_link": true
    },
    "kernelspec": {
      "display_name": "Python 3",
      "name": "python3"
    },
    "language_info": {
      "name": "python"
    }
  },
  "nbformat": 4,
  "nbformat_minor": 0
}